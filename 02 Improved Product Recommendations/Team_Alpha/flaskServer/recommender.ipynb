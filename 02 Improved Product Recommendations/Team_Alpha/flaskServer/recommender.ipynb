{
 "cells": [
  {
   "cell_type": "code",
   "execution_count": 462,
   "metadata": {},
   "outputs": [],
   "source": [
    "import numpy as np\n",
    "import pandas as pd\n",
    "import random"
   ]
  },
  {
   "cell_type": "code",
   "execution_count": 463,
   "metadata": {},
   "outputs": [],
   "source": [
    "dell_data=pd.read_csv(\"data/dell_data.csv\")"
   ]
  },
  {
   "cell_type": "code",
   "execution_count": 464,
   "metadata": {},
   "outputs": [
    {
     "data": {
      "text/plain": [
       "(60, 13)"
      ]
     },
     "execution_count": 464,
     "metadata": {},
     "output_type": "execute_result"
    }
   ],
   "source": [
    "dell_data.shape"
   ]
  },
  {
   "cell_type": "code",
   "execution_count": 465,
   "metadata": {},
   "outputs": [],
   "source": [
    "apple_data=pd.read_csv(\"data/apple_data.csv\")"
   ]
  },
  {
   "cell_type": "code",
   "execution_count": 466,
   "metadata": {},
   "outputs": [
    {
     "data": {
      "text/plain": [
       "(20, 13)"
      ]
     },
     "execution_count": 466,
     "metadata": {},
     "output_type": "execute_result"
    }
   ],
   "source": [
    "apple_data.shape"
   ]
  },
  {
   "cell_type": "code",
   "execution_count": 467,
   "metadata": {},
   "outputs": [],
   "source": [
    "laptop_data=pd.read_csv(\"data/laptop_data.csv\")"
   ]
  },
  {
   "cell_type": "code",
   "execution_count": 468,
   "metadata": {},
   "outputs": [],
   "source": [
    "#laptop_data=pd.read_csv(\"data/laptops.csv\")"
   ]
  },
  {
   "cell_type": "code",
   "execution_count": 469,
   "metadata": {},
   "outputs": [
    {
     "data": {
      "text/plain": [
       "(80, 13)"
      ]
     },
     "execution_count": 469,
     "metadata": {},
     "output_type": "execute_result"
    }
   ],
   "source": [
    "laptop_data.shape"
   ]
  },
  {
   "cell_type": "code",
   "execution_count": 470,
   "metadata": {},
   "outputs": [],
   "source": [
    "#laptop_data.to_csv(\"data/laptop_data.csv\")"
   ]
  },
  {
   "cell_type": "code",
   "execution_count": 471,
   "metadata": {},
   "outputs": [
    {
     "data": {
      "text/html": [
       "<div>\n",
       "<style scoped>\n",
       "    .dataframe tbody tr th:only-of-type {\n",
       "        vertical-align: middle;\n",
       "    }\n",
       "\n",
       "    .dataframe tbody tr th {\n",
       "        vertical-align: top;\n",
       "    }\n",
       "\n",
       "    .dataframe thead th {\n",
       "        text-align: right;\n",
       "    }\n",
       "</style>\n",
       "<table border=\"1\" class=\"dataframe\">\n",
       "  <thead>\n",
       "    <tr style=\"text-align: right;\">\n",
       "      <th></th>\n",
       "      <th>Id</th>\n",
       "      <th>Company</th>\n",
       "      <th>Product</th>\n",
       "      <th>TypeName</th>\n",
       "      <th>Inches</th>\n",
       "      <th>ScreenResolution</th>\n",
       "      <th>Cpu</th>\n",
       "      <th>Ram</th>\n",
       "      <th>Memory</th>\n",
       "      <th>Gpu</th>\n",
       "      <th>OpSys</th>\n",
       "      <th>Weight</th>\n",
       "      <th>Price_euros</th>\n",
       "    </tr>\n",
       "  </thead>\n",
       "  <tbody>\n",
       "    <tr>\n",
       "      <th>0</th>\n",
       "      <td>21</td>\n",
       "      <td>Dell</td>\n",
       "      <td>XPS 13</td>\n",
       "      <td>Ultrabook</td>\n",
       "      <td>13.3</td>\n",
       "      <td>IPS Panel Full HD / Touchscreen 1920x1080</td>\n",
       "      <td>Intel Core i5 8250U 1.6GHz</td>\n",
       "      <td>8GB</td>\n",
       "      <td>128GB SSD</td>\n",
       "      <td>Intel UHD Graphics 620</td>\n",
       "      <td>Windows 10</td>\n",
       "      <td>1.22kg</td>\n",
       "      <td>979.00</td>\n",
       "    </tr>\n",
       "    <tr>\n",
       "      <th>1</th>\n",
       "      <td>22</td>\n",
       "      <td>Dell</td>\n",
       "      <td>Latitude 5590</td>\n",
       "      <td>Ultrabook</td>\n",
       "      <td>15.6</td>\n",
       "      <td>Full HD 1920x1080</td>\n",
       "      <td>Intel Core i7 8650U 1.9GHz</td>\n",
       "      <td>8GB</td>\n",
       "      <td>256GB SSD +  256GB SSD</td>\n",
       "      <td>Intel UHD Graphics 620</td>\n",
       "      <td>Windows 10</td>\n",
       "      <td>1.88kg</td>\n",
       "      <td>1298.00</td>\n",
       "    </tr>\n",
       "    <tr>\n",
       "      <th>2</th>\n",
       "      <td>23</td>\n",
       "      <td>Dell</td>\n",
       "      <td>Inspiron 5370</td>\n",
       "      <td>Ultrabook</td>\n",
       "      <td>13.3</td>\n",
       "      <td>IPS Panel Full HD 1920x1080</td>\n",
       "      <td>Intel Core i7 8550U 1.8GHz</td>\n",
       "      <td>8GB</td>\n",
       "      <td>256GB SSD</td>\n",
       "      <td>AMD Radeon 530</td>\n",
       "      <td>Windows 10</td>\n",
       "      <td>1.4kg</td>\n",
       "      <td>955.00</td>\n",
       "    </tr>\n",
       "    <tr>\n",
       "      <th>3</th>\n",
       "      <td>24</td>\n",
       "      <td>Dell</td>\n",
       "      <td>Latitude 5590</td>\n",
       "      <td>Ultrabook</td>\n",
       "      <td>15.6</td>\n",
       "      <td>IPS Panel Full HD 1920x1080</td>\n",
       "      <td>Intel Core i5 8250U 1.6GHz</td>\n",
       "      <td>8GB</td>\n",
       "      <td>256GB SSD</td>\n",
       "      <td>Intel UHD Graphics 620</td>\n",
       "      <td>Windows 10</td>\n",
       "      <td>1.88kg</td>\n",
       "      <td>1096.16</td>\n",
       "    </tr>\n",
       "    <tr>\n",
       "      <th>4</th>\n",
       "      <td>25</td>\n",
       "      <td>Dell</td>\n",
       "      <td>Inspiron 7577</td>\n",
       "      <td>Gaming</td>\n",
       "      <td>15.6</td>\n",
       "      <td>IPS Panel Full HD 1920x1080</td>\n",
       "      <td>Intel Core i7 7700HQ 2.8GHz</td>\n",
       "      <td>16GB</td>\n",
       "      <td>128GB SSD +  1TB HDD</td>\n",
       "      <td>Nvidia GeForce GTX 1050 Ti</td>\n",
       "      <td>Windows 10</td>\n",
       "      <td>2.65kg</td>\n",
       "      <td>1349.00</td>\n",
       "    </tr>\n",
       "  </tbody>\n",
       "</table>\n",
       "</div>"
      ],
      "text/plain": [
       "   Id Company        Product   TypeName  Inches  \\\n",
       "0  21    Dell         XPS 13  Ultrabook    13.3   \n",
       "1  22    Dell  Latitude 5590  Ultrabook    15.6   \n",
       "2  23    Dell  Inspiron 5370  Ultrabook    13.3   \n",
       "3  24    Dell  Latitude 5590  Ultrabook    15.6   \n",
       "4  25    Dell  Inspiron 7577     Gaming    15.6   \n",
       "\n",
       "                            ScreenResolution                          Cpu  \\\n",
       "0  IPS Panel Full HD / Touchscreen 1920x1080   Intel Core i5 8250U 1.6GHz   \n",
       "1                          Full HD 1920x1080   Intel Core i7 8650U 1.9GHz   \n",
       "2                IPS Panel Full HD 1920x1080   Intel Core i7 8550U 1.8GHz   \n",
       "3                IPS Panel Full HD 1920x1080   Intel Core i5 8250U 1.6GHz   \n",
       "4                IPS Panel Full HD 1920x1080  Intel Core i7 7700HQ 2.8GHz   \n",
       "\n",
       "    Ram                  Memory                         Gpu       OpSys  \\\n",
       "0   8GB               128GB SSD      Intel UHD Graphics 620  Windows 10   \n",
       "1   8GB  256GB SSD +  256GB SSD      Intel UHD Graphics 620  Windows 10   \n",
       "2   8GB               256GB SSD              AMD Radeon 530  Windows 10   \n",
       "3   8GB               256GB SSD      Intel UHD Graphics 620  Windows 10   \n",
       "4  16GB    128GB SSD +  1TB HDD  Nvidia GeForce GTX 1050 Ti  Windows 10   \n",
       "\n",
       "   Weight  Price_euros  \n",
       "0  1.22kg       979.00  \n",
       "1  1.88kg      1298.00  \n",
       "2   1.4kg       955.00  \n",
       "3  1.88kg      1096.16  \n",
       "4  2.65kg      1349.00  "
      ]
     },
     "execution_count": 471,
     "metadata": {},
     "output_type": "execute_result"
    }
   ],
   "source": [
    "laptop_data.head()\n"
   ]
  },
  {
   "cell_type": "code",
   "execution_count": 472,
   "metadata": {},
   "outputs": [],
   "source": [
    "laptop_data['Weight'] = laptop_data['Weight'].map(lambda x: x.rstrip('kg'))\n",
    "laptop_data['Ram'] = laptop_data['Ram'].map(lambda x: x.rstrip('GB'))"
   ]
  },
  {
   "cell_type": "code",
   "execution_count": 473,
   "metadata": {},
   "outputs": [],
   "source": [
    "laptop_data=laptop_data.drop('ScreenResolution', axis=1)"
   ]
  },
  {
   "cell_type": "code",
   "execution_count": 474,
   "metadata": {},
   "outputs": [],
   "source": [
    "laptop_data=laptop_data.drop('Weight', axis=1)"
   ]
  },
  {
   "cell_type": "code",
   "execution_count": 475,
   "metadata": {},
   "outputs": [
    {
     "data": {
      "text/plain": [
       "Id               int64\n",
       "Company         object\n",
       "Product         object\n",
       "TypeName        object\n",
       "Inches         float64\n",
       "Cpu             object\n",
       "Ram             object\n",
       "Memory          object\n",
       "Gpu             object\n",
       "OpSys           object\n",
       "Price_euros    float64\n",
       "dtype: object"
      ]
     },
     "execution_count": 475,
     "metadata": {},
     "output_type": "execute_result"
    }
   ],
   "source": [
    "laptop_data.dtypes"
   ]
  },
  {
   "cell_type": "code",
   "execution_count": 476,
   "metadata": {},
   "outputs": [],
   "source": [
    "laptop_data[\"Ram\"] = pd.to_numeric(laptop_data[\"Ram\"])"
   ]
  },
  {
   "cell_type": "code",
   "execution_count": 477,
   "metadata": {},
   "outputs": [
    {
     "data": {
      "text/plain": [
       "Id               int64\n",
       "Company         object\n",
       "Product         object\n",
       "TypeName        object\n",
       "Inches         float64\n",
       "Cpu             object\n",
       "Ram              int64\n",
       "Memory          object\n",
       "Gpu             object\n",
       "OpSys           object\n",
       "Price_euros    float64\n",
       "dtype: object"
      ]
     },
     "execution_count": 477,
     "metadata": {},
     "output_type": "execute_result"
    }
   ],
   "source": [
    "laptop_data.dtypes"
   ]
  },
  {
   "cell_type": "code",
   "execution_count": 478,
   "metadata": {},
   "outputs": [],
   "source": [
    "X=laptop_data.values"
   ]
  },
  {
   "cell_type": "code",
   "execution_count": 479,
   "metadata": {},
   "outputs": [],
   "source": [
    "from sklearn.preprocessing import LabelEncoder, OneHotEncoder\n",
    "labelencoder_X = LabelEncoder()"
   ]
  },
  {
   "cell_type": "code",
   "execution_count": 480,
   "metadata": {},
   "outputs": [
    {
     "data": {
      "text/html": [
       "<div>\n",
       "<style scoped>\n",
       "    .dataframe tbody tr th:only-of-type {\n",
       "        vertical-align: middle;\n",
       "    }\n",
       "\n",
       "    .dataframe tbody tr th {\n",
       "        vertical-align: top;\n",
       "    }\n",
       "\n",
       "    .dataframe thead th {\n",
       "        text-align: right;\n",
       "    }\n",
       "</style>\n",
       "<table border=\"1\" class=\"dataframe\">\n",
       "  <thead>\n",
       "    <tr style=\"text-align: right;\">\n",
       "      <th></th>\n",
       "      <th>Id</th>\n",
       "      <th>Company</th>\n",
       "      <th>Product</th>\n",
       "      <th>TypeName</th>\n",
       "      <th>Inches</th>\n",
       "      <th>Cpu</th>\n",
       "      <th>Ram</th>\n",
       "      <th>Memory</th>\n",
       "      <th>Gpu</th>\n",
       "      <th>OpSys</th>\n",
       "      <th>Price_euros</th>\n",
       "    </tr>\n",
       "  </thead>\n",
       "  <tbody>\n",
       "    <tr>\n",
       "      <th>0</th>\n",
       "      <td>21</td>\n",
       "      <td>Dell</td>\n",
       "      <td>XPS 13</td>\n",
       "      <td>Ultrabook</td>\n",
       "      <td>13.3</td>\n",
       "      <td>Intel Core i5 8250U 1.6GHz</td>\n",
       "      <td>8</td>\n",
       "      <td>128GB SSD</td>\n",
       "      <td>Intel UHD Graphics 620</td>\n",
       "      <td>Windows 10</td>\n",
       "      <td>979.00</td>\n",
       "    </tr>\n",
       "    <tr>\n",
       "      <th>1</th>\n",
       "      <td>22</td>\n",
       "      <td>Dell</td>\n",
       "      <td>Latitude 5590</td>\n",
       "      <td>Ultrabook</td>\n",
       "      <td>15.6</td>\n",
       "      <td>Intel Core i7 8650U 1.9GHz</td>\n",
       "      <td>8</td>\n",
       "      <td>256GB SSD +  256GB SSD</td>\n",
       "      <td>Intel UHD Graphics 620</td>\n",
       "      <td>Windows 10</td>\n",
       "      <td>1298.00</td>\n",
       "    </tr>\n",
       "    <tr>\n",
       "      <th>2</th>\n",
       "      <td>23</td>\n",
       "      <td>Dell</td>\n",
       "      <td>Inspiron 5370</td>\n",
       "      <td>Ultrabook</td>\n",
       "      <td>13.3</td>\n",
       "      <td>Intel Core i7 8550U 1.8GHz</td>\n",
       "      <td>8</td>\n",
       "      <td>256GB SSD</td>\n",
       "      <td>AMD Radeon 530</td>\n",
       "      <td>Windows 10</td>\n",
       "      <td>955.00</td>\n",
       "    </tr>\n",
       "    <tr>\n",
       "      <th>3</th>\n",
       "      <td>24</td>\n",
       "      <td>Dell</td>\n",
       "      <td>Latitude 5590</td>\n",
       "      <td>Ultrabook</td>\n",
       "      <td>15.6</td>\n",
       "      <td>Intel Core i5 8250U 1.6GHz</td>\n",
       "      <td>8</td>\n",
       "      <td>256GB SSD</td>\n",
       "      <td>Intel UHD Graphics 620</td>\n",
       "      <td>Windows 10</td>\n",
       "      <td>1096.16</td>\n",
       "    </tr>\n",
       "    <tr>\n",
       "      <th>4</th>\n",
       "      <td>25</td>\n",
       "      <td>Dell</td>\n",
       "      <td>Inspiron 7577</td>\n",
       "      <td>Gaming</td>\n",
       "      <td>15.6</td>\n",
       "      <td>Intel Core i7 7700HQ 2.8GHz</td>\n",
       "      <td>16</td>\n",
       "      <td>128GB SSD +  1TB HDD</td>\n",
       "      <td>Nvidia GeForce GTX 1050 Ti</td>\n",
       "      <td>Windows 10</td>\n",
       "      <td>1349.00</td>\n",
       "    </tr>\n",
       "  </tbody>\n",
       "</table>\n",
       "</div>"
      ],
      "text/plain": [
       "   Id Company        Product   TypeName  Inches                          Cpu  \\\n",
       "0  21    Dell         XPS 13  Ultrabook    13.3   Intel Core i5 8250U 1.6GHz   \n",
       "1  22    Dell  Latitude 5590  Ultrabook    15.6   Intel Core i7 8650U 1.9GHz   \n",
       "2  23    Dell  Inspiron 5370  Ultrabook    13.3   Intel Core i7 8550U 1.8GHz   \n",
       "3  24    Dell  Latitude 5590  Ultrabook    15.6   Intel Core i5 8250U 1.6GHz   \n",
       "4  25    Dell  Inspiron 7577     Gaming    15.6  Intel Core i7 7700HQ 2.8GHz   \n",
       "\n",
       "   Ram                  Memory                         Gpu       OpSys  \\\n",
       "0    8               128GB SSD      Intel UHD Graphics 620  Windows 10   \n",
       "1    8  256GB SSD +  256GB SSD      Intel UHD Graphics 620  Windows 10   \n",
       "2    8               256GB SSD              AMD Radeon 530  Windows 10   \n",
       "3    8               256GB SSD      Intel UHD Graphics 620  Windows 10   \n",
       "4   16    128GB SSD +  1TB HDD  Nvidia GeForce GTX 1050 Ti  Windows 10   \n",
       "\n",
       "   Price_euros  \n",
       "0       979.00  \n",
       "1      1298.00  \n",
       "2       955.00  \n",
       "3      1096.16  \n",
       "4      1349.00  "
      ]
     },
     "execution_count": 480,
     "metadata": {},
     "output_type": "execute_result"
    }
   ],
   "source": [
    "laptop_data.head()"
   ]
  },
  {
   "cell_type": "code",
   "execution_count": 481,
   "metadata": {},
   "outputs": [],
   "source": [
    "X[:, 5] = labelencoder_X.fit_transform(X[:, 5])"
   ]
  },
  {
   "cell_type": "code",
   "execution_count": 482,
   "metadata": {},
   "outputs": [],
   "source": [
    "X[:, 9]=labelencoder_X.fit_transform(X[:,9])"
   ]
  },
  {
   "cell_type": "code",
   "execution_count": 483,
   "metadata": {},
   "outputs": [],
   "source": [
    "\n",
    "X[:, 7]=labelencoder_X.fit_transform(X[:,7])\n",
    "X[:, 8]=labelencoder_X.fit_transform(X[:,8])"
   ]
  },
  {
   "cell_type": "code",
   "execution_count": 484,
   "metadata": {},
   "outputs": [
    {
     "data": {
      "text/plain": [
       "array([[21, 'Dell', 'XPS 13', 'Ultrabook', 13.3, 18, 8, 1, 16, 1, 979.0],\n",
       "       [22, 'Dell', 'Latitude 5590', 'Ultrabook', 15.6, 30, 8, 7, 16, 1,\n",
       "        1298.0],\n",
       "       [23, 'Dell', 'Inspiron 5370', 'Ultrabook', 13.3, 29, 8, 5, 0, 1,\n",
       "        955.0],\n",
       "       [24, 'Dell', 'Latitude 5590', 'Ultrabook', 15.6, 18, 8, 5, 16, 1,\n",
       "        1096.16],\n",
       "       [25, 'Dell', 'Inspiron 7577', 'Gaming', 15.6, 27, 16, 2, 22, 1,\n",
       "        1349.0],\n",
       "       [26, 'Dell', 'XPS 13', 'Ultrabook', 13.3, 18, 8, 5, 16, 1, 1629.0],\n",
       "       [27, 'Dell', 'Inspiron 7773', 'Notebook', 17.3, 29, 16, 12, 17, 1,\n",
       "        1549.0],\n",
       "       [28, 'Dell', 'XPS 15', 'Notebook', 15.6, 27, 16, 12, 21, 1,\n",
       "        2397.0],\n",
       "       [29, 'Dell', 'Inspiron 5770', 'Notebook', 17.3, 29, 8, 2, 0, 1,\n",
       "        1085.0],\n",
       "       [30, 'Dell', 'Inspiron 5370', 'Ultrabook', 13.3, 29, 8, 5, 0, 1,\n",
       "        931.88],\n",
       "       [31, 'Dell', 'Inspiron 5379', '2 in 1 Convertible', 13.3, 29, 16,\n",
       "        12, 16, 1, 1279.0],\n",
       "       [32, 'Dell', 'Alienware 17', 'Gaming', 17.3, 27, 16, 6, 23, 1,\n",
       "        2456.34],\n",
       "       [33, 'Dell', 'XPS 13', 'Ultrabook', 13.3, 29, 16, 3, 16, 1,\n",
       "        2499.0],\n",
       "       [34, 'Dell', 'Inspiron 5570', 'Notebook', 15.6, 29, 8, 8, 0, 1,\n",
       "        1142.4],\n",
       "       [35, 'Dell', 'Precision 3520', 'Workstation', 15.6, 31, 8, 13, 26,\n",
       "        1, 1993.0],\n",
       "       [36, 'Dell', 'Precision 3520', 'Workstation', 15.6, 23, 16, 5, 26,\n",
       "        1, 1975.0],\n",
       "       [37, 'Dell', 'Inspiron 5570', 'Notebook', 15.6, 29, 8, 2, 0, 1,\n",
       "        979.0],\n",
       "       [38, 'Dell', 'Precision 3520', 'Workstation', 15.6, 23, 16, 12,\n",
       "        26, 1, 2338.0],\n",
       "       [39, 'Dell', 'Latitude 5580', 'Notebook', 15.6, 26, 8, 5, 18, 1,\n",
       "        1369.0],\n",
       "       [40, 'Dell', 'XPS 13', 'Ultrabook', 13.3, 18, 8, 1, 16, 1, 1599.0],\n",
       "       [41, 'Dell', 'Latitude 5580', 'Notebook', 15.6, 26, 16, 5, 18, 1,\n",
       "        1537.39],\n",
       "       [42, 'Dell', 'XPS 15', 'Notebook', 15.6, 27, 16, 3, 21, 1, 2399.0],\n",
       "       [43, 'Dell', 'Inspiron 5570', 'Notebook', 15.6, 29, 16, 8, 0, 1,\n",
       "        1135.0],\n",
       "       [44, 'Dell', 'Latitude E7470', 'Notebook', 14.0, 12, 8, 5, 5, 1,\n",
       "        1229.0],\n",
       "       [45, 'Dell', 'Inspiron 7560', 'Notebook', 15.6, 24, 8, 2, 19, 1,\n",
       "        1207.0],\n",
       "       [46, 'Dell', 'Latitude 7280', 'Ultrabook', 12.5, 26, 16, 5, 9, 1,\n",
       "        1859.0],\n",
       "       [47, 'Dell', 'Inspiron 7559', 'Gaming', 15.6, 22, 16, 2, 24, 1,\n",
       "        1099.0],\n",
       "       [48, 'Dell', 'Inspiron 5567', 'Notebook', 15.6, 24, 16, 5, 3, 1,\n",
       "        1181.27],\n",
       "       [49, 'Dell', 'XPS 13', 'Ultrabook', 13.3, 13, 8, 5, 9, 1, 1499.0],\n",
       "       [50, 'Dell', 'Inspiron 7567', 'Gaming', 15.6, 27, 16, 12, 22, 1,\n",
       "        1679.0],\n",
       "       [51, 'Dell', 'Latitude 5580', 'Notebook', 15.6, 13, 8, 1, 9, 1,\n",
       "        945.0],\n",
       "       [52, 'Dell', 'Latitude 7280', 'Ultrabook', 12.5, 26, 8, 5, 9, 1,\n",
       "        1690.0],\n",
       "       [53, 'Dell', 'Latitude 5580', 'Notebook', 15.6, 15, 8, 10, 9, 1,\n",
       "        935.0],\n",
       "       [54, 'Dell', 'XPS 13', '2 in 1 Convertible', 13.3, 28, 8, 12, 8,\n",
       "        1, 2013.1],\n",
       "       [55, 'Dell', 'XPS 13', '2 in 1 Convertible', 13.3, 28, 16, 5, 8,\n",
       "        1, 1649.0],\n",
       "       [56, 'Dell', 'Latitude 5480', 'Notebook', 14.0, 16, 8, 5, 9, 1,\n",
       "        1205.0],\n",
       "       [57, 'Dell', 'Inspiron 7567', 'Gaming', 15.6, 27, 16, 2, 22, 1,\n",
       "        1349.0],\n",
       "       [58, 'Dell', 'Latitude 7480', 'Ultrabook', 14.0, 13, 8, 5, 9, 1,\n",
       "        1639.0],\n",
       "       [59, 'Dell', 'XPS 13', '2 in 1 Convertible', 13.3, 28, 16, 12, 8,\n",
       "        1, 1899.0],\n",
       "       [60, 'Dell', 'Latitude 5480', 'Notebook', 14.0, 13, 8, 1, 10, 1,\n",
       "        1119.0],\n",
       "       [61, 'Dell', 'Latitude E5570', 'Notebook', 15.6, 12, 8, 10, 5, 1,\n",
       "        1046.44],\n",
       "       [62, 'Dell', 'XPS 13', 'Ultrabook', 13.3, 13, 8, 5, 9, 1, 1624.0],\n",
       "       [63, 'Dell', 'Latitude E5570', 'Notebook', 15.6, 12, 8, 5, 5, 2,\n",
       "        1062.95],\n",
       "       [64, 'Dell', 'Inspiron 5578', '2 in 1 Convertible', 15.6, 14, 8,\n",
       "        5, 9, 1, 1094.0],\n",
       "       [65, 'Dell', 'XPS 13', 'Ultrabook', 13.3, 24, 16, 3, 9, 1, 2254.0],\n",
       "       [66, 'Dell', 'Inspiron 5567', 'Notebook', 15.6, 24, 16, 9, 3, 1,\n",
       "        989.99],\n",
       "       [67, 'Dell', 'XPS 13', 'Ultrabook', 13.3, 24, 8, 5, 9, 1, 1458.0],\n",
       "       [68, 'Dell', 'Alienware 15', 'Gaming', 15.6, 22, 16, 6, 25, 1,\n",
       "        1329.0],\n",
       "       [69, 'Dell', 'Latitude E5270', 'Ultrabook', 12.5, 10, 8, 5, 5, 2,\n",
       "        1413.1],\n",
       "       [70, 'Dell', 'XPS 13', 'Ultrabook', 13.3, 25, 8, 5, 13, 1, 1379.0],\n",
       "       [71, 'Dell', 'Vostro 5568', 'Notebook', 15.6, 24, 8, 5, 19, 1,\n",
       "        1009.9],\n",
       "       [72, 'Dell', 'XPS 15', 'Notebook', 15.6, 11, 8, 5, 20, 1, 2250.68],\n",
       "       [73, 'Dell', 'Inspiron 7567', 'Gaming', 15.6, 27, 8, 2, 22, 1,\n",
       "        1498.0],\n",
       "       [74, 'Dell', 'Inspiron 7378', '2 in 1 Convertible', 13.3, 13, 8,\n",
       "        5, 9, 1, 1199.0],\n",
       "       [75, 'Dell', 'Inspiron 5579', '2 in 1 Convertible', 15.6, 29, 16,\n",
       "        12, 16, 1, 1285.0],\n",
       "       [76, 'Dell', 'Inspiron 7579', '2 in 1 Convertible', 15.6, 13, 8,\n",
       "        5, 9, 1, 999.0],\n",
       "       [77, 'Dell', 'XPS 13', 'Ultrabook', 13.3, 24, 8, 5, 9, 1, 1477.0],\n",
       "       [78, 'Dell', 'Inspiron 7779', '2 in 1 Convertible', 17.3, 24, 16,\n",
       "        12, 19, 1, 1799.0],\n",
       "       [79, 'Dell', 'XPS 13', '2 in 1 Convertible', 13.3, 17, 8, 5, 8, 1,\n",
       "        1813.0],\n",
       "       [80, 'Dell', 'Vostro 5471', 'Ultrabook', 14.0, 18, 8, 5, 16, 1,\n",
       "        879.0],\n",
       "       [1, 'Apple', 'MacBook Pro', 'Ultrabook', 13.3, 7, 8, 1, 13, 3,\n",
       "        1339.69],\n",
       "       [2, 'Apple', 'Macbook Air', 'Ultrabook', 13.3, 5, 8, 0, 7, 3,\n",
       "        898.94],\n",
       "       [3, 'Apple', 'MacBook Pro', 'Ultrabook', 15.4, 20, 16, 12, 1, 3,\n",
       "        2537.45],\n",
       "       [4, 'Apple', 'MacBook Pro', 'Ultrabook', 13.3, 9, 8, 5, 14, 3,\n",
       "        1803.6],\n",
       "       [5, 'Apple', 'MacBook Pro', 'Ultrabook', 15.4, 19, 16, 4, 15, 0,\n",
       "        2139.97],\n",
       "       [6, 'Apple', 'Macbook Air', 'Ultrabook', 13.3, 5, 8, 4, 7, 3,\n",
       "        1158.7],\n",
       "       [7, 'Apple', 'MacBook Pro', 'Ultrabook', 15.4, 21, 16, 5, 2, 3,\n",
       "        2439.97],\n",
       "       [8, 'Apple', 'MacBook 12\"', 'Ultrabook', 12.0, 2, 8, 5, 8, 3,\n",
       "        1262.4],\n",
       "       [9, 'Apple', 'MacBook Pro', 'Ultrabook', 13.3, 7, 8, 5, 13, 3,\n",
       "        1518.55],\n",
       "       [10, 'Apple', 'MacBook Air', 'Ultrabook', 13.3, 4, 8, 0, 7, 0,\n",
       "        1099.0],\n",
       "       [11, 'Apple', 'MacBook Air', 'Ultrabook', 13.3, 4, 8, 4, 7, 0,\n",
       "        998.0],\n",
       "       [12, 'Apple', 'MacBook Pro', 'Ultrabook', 13.3, 6, 8, 5, 11, 3,\n",
       "        1419.0],\n",
       "       [13, 'Apple', 'MacBook 12\"', 'Ultrabook', 12.0, 3, 8, 12, 8, 3,\n",
       "        1510.0],\n",
       "       [14, 'Apple', 'MacBook Pro', 'Ultrabook', 13.3, 9, 8, 12, 14, 3,\n",
       "        2040.0],\n",
       "       [15, 'Apple', 'MacBook Pro', 'Ultrabook', 13.3, 8, 8, 12, 12, 3,\n",
       "        1958.9],\n",
       "       [16, 'Apple', 'MacBook 12\"', 'Ultrabook', 12.0, 1, 8, 11, 6, 0,\n",
       "        1165.0],\n",
       "       [17, 'Apple', 'MacBook 12\"', 'Ultrabook', 12.0, 0, 8, 4, 4, 0,\n",
       "        1300.0],\n",
       "       [18, 'Apple', 'MacBook 12\"', 'Ultrabook', 12.0, 0, 8, 4, 6, 0,\n",
       "        1163.0],\n",
       "       [19, 'Apple', 'MacBook 12\"', 'Ultrabook', 12.0, 1, 8, 11, 4, 0,\n",
       "        1279.0],\n",
       "       [20, 'Apple', 'MacBook Air', 'Ultrabook', 11.6, 4, 4, 4, 7, 0,\n",
       "        959.0]], dtype=object)"
      ]
     },
     "execution_count": 484,
     "metadata": {},
     "output_type": "execute_result"
    }
   ],
   "source": [
    "X"
   ]
  },
  {
   "cell_type": "code",
   "execution_count": 485,
   "metadata": {},
   "outputs": [],
   "source": [
    "from sklearn.cluster import KMeans"
   ]
  },
  {
   "cell_type": "code",
   "execution_count": 486,
   "metadata": {},
   "outputs": [
    {
     "name": "stdout",
     "output_type": "stream",
     "text": [
      "[[13.3 18 8 1 16 1 979.0]\n",
      " [15.6 30 8 7 16 1 1298.0]\n",
      " [13.3 29 8 5 0 1 955.0]\n",
      " [15.6 18 8 5 16 1 1096.16]\n",
      " [15.6 27 16 2 22 1 1349.0]\n",
      " [13.3 18 8 5 16 1 1629.0]\n",
      " [17.3 29 16 12 17 1 1549.0]\n",
      " [15.6 27 16 12 21 1 2397.0]\n",
      " [17.3 29 8 2 0 1 1085.0]\n",
      " [13.3 29 8 5 0 1 931.88]\n",
      " [13.3 29 16 12 16 1 1279.0]\n",
      " [17.3 27 16 6 23 1 2456.34]\n",
      " [13.3 29 16 3 16 1 2499.0]\n",
      " [15.6 29 8 8 0 1 1142.4]\n",
      " [15.6 31 8 13 26 1 1993.0]\n",
      " [15.6 23 16 5 26 1 1975.0]\n",
      " [15.6 29 8 2 0 1 979.0]\n",
      " [15.6 23 16 12 26 1 2338.0]\n",
      " [15.6 26 8 5 18 1 1369.0]\n",
      " [13.3 18 8 1 16 1 1599.0]\n",
      " [15.6 26 16 5 18 1 1537.39]\n",
      " [15.6 27 16 3 21 1 2399.0]\n",
      " [15.6 29 16 8 0 1 1135.0]\n",
      " [14.0 12 8 5 5 1 1229.0]\n",
      " [15.6 24 8 2 19 1 1207.0]\n",
      " [12.5 26 16 5 9 1 1859.0]\n",
      " [15.6 22 16 2 24 1 1099.0]\n",
      " [15.6 24 16 5 3 1 1181.27]\n",
      " [13.3 13 8 5 9 1 1499.0]\n",
      " [15.6 27 16 12 22 1 1679.0]\n",
      " [15.6 13 8 1 9 1 945.0]\n",
      " [12.5 26 8 5 9 1 1690.0]\n",
      " [15.6 15 8 10 9 1 935.0]\n",
      " [13.3 28 8 12 8 1 2013.1]\n",
      " [13.3 28 16 5 8 1 1649.0]\n",
      " [14.0 16 8 5 9 1 1205.0]\n",
      " [15.6 27 16 2 22 1 1349.0]\n",
      " [14.0 13 8 5 9 1 1639.0]\n",
      " [13.3 28 16 12 8 1 1899.0]\n",
      " [14.0 13 8 1 10 1 1119.0]\n",
      " [15.6 12 8 10 5 1 1046.44]\n",
      " [13.3 13 8 5 9 1 1624.0]\n",
      " [15.6 12 8 5 5 2 1062.95]\n",
      " [15.6 14 8 5 9 1 1094.0]\n",
      " [13.3 24 16 3 9 1 2254.0]\n",
      " [15.6 24 16 9 3 1 989.99]\n",
      " [13.3 24 8 5 9 1 1458.0]\n",
      " [15.6 22 16 6 25 1 1329.0]\n",
      " [12.5 10 8 5 5 2 1413.1]\n",
      " [13.3 25 8 5 13 1 1379.0]\n",
      " [15.6 24 8 5 19 1 1009.9]\n",
      " [15.6 11 8 5 20 1 2250.68]\n",
      " [15.6 27 8 2 22 1 1498.0]\n",
      " [13.3 13 8 5 9 1 1199.0]\n",
      " [15.6 29 16 12 16 1 1285.0]\n",
      " [15.6 13 8 5 9 1 999.0]\n",
      " [13.3 24 8 5 9 1 1477.0]\n",
      " [17.3 24 16 12 19 1 1799.0]\n",
      " [13.3 17 8 5 8 1 1813.0]\n",
      " [14.0 18 8 5 16 1 879.0]\n",
      " [13.3 7 8 1 13 3 1339.69]\n",
      " [13.3 5 8 0 7 3 898.94]\n",
      " [15.4 20 16 12 1 3 2537.45]\n",
      " [13.3 9 8 5 14 3 1803.6]\n",
      " [15.4 19 16 4 15 0 2139.97]\n",
      " [13.3 5 8 4 7 3 1158.7]\n",
      " [15.4 21 16 5 2 3 2439.97]\n",
      " [12.0 2 8 5 8 3 1262.4]\n",
      " [13.3 7 8 5 13 3 1518.55]\n",
      " [13.3 4 8 0 7 0 1099.0]\n",
      " [13.3 4 8 4 7 0 998.0]\n",
      " [13.3 6 8 5 11 3 1419.0]\n",
      " [12.0 3 8 12 8 3 1510.0]\n",
      " [13.3 9 8 12 14 3 2040.0]\n",
      " [13.3 8 8 12 12 3 1958.9]\n",
      " [12.0 1 8 11 6 0 1165.0]\n",
      " [12.0 0 8 4 4 0 1300.0]\n",
      " [12.0 0 8 4 6 0 1163.0]\n",
      " [12.0 1 8 11 4 0 1279.0]\n",
      " [11.6 4 4 4 7 0 959.0]]\n"
     ]
    }
   ],
   "source": [
    "X_fit=X[:,4:11]\n",
    "print(X_fit)"
   ]
  },
  {
   "cell_type": "code",
   "execution_count": 487,
   "metadata": {},
   "outputs": [],
   "source": [
    "kmeans = KMeans(init='k-means++', n_clusters=8, n_init=100).fit(X[:,4:11])"
   ]
  },
  {
   "cell_type": "code",
   "execution_count": 488,
   "metadata": {},
   "outputs": [],
   "source": [
    "classes=pd.DataFrame(kmeans.predict(X_fit))"
   ]
  },
  {
   "cell_type": "code",
   "execution_count": 489,
   "metadata": {},
   "outputs": [],
   "source": [
    "laptop_data=pd.concat([laptop_data,classes],axis=1)"
   ]
  },
  {
   "cell_type": "code",
   "execution_count": 490,
   "metadata": {},
   "outputs": [
    {
     "data": {
      "text/html": [
       "<div>\n",
       "<style scoped>\n",
       "    .dataframe tbody tr th:only-of-type {\n",
       "        vertical-align: middle;\n",
       "    }\n",
       "\n",
       "    .dataframe tbody tr th {\n",
       "        vertical-align: top;\n",
       "    }\n",
       "\n",
       "    .dataframe thead th {\n",
       "        text-align: right;\n",
       "    }\n",
       "</style>\n",
       "<table border=\"1\" class=\"dataframe\">\n",
       "  <thead>\n",
       "    <tr style=\"text-align: right;\">\n",
       "      <th></th>\n",
       "      <th>Id</th>\n",
       "      <th>Company</th>\n",
       "      <th>Product</th>\n",
       "      <th>TypeName</th>\n",
       "      <th>Inches</th>\n",
       "      <th>Cpu</th>\n",
       "      <th>Ram</th>\n",
       "      <th>Memory</th>\n",
       "      <th>Gpu</th>\n",
       "      <th>OpSys</th>\n",
       "      <th>Price_euros</th>\n",
       "      <th>0</th>\n",
       "    </tr>\n",
       "  </thead>\n",
       "  <tbody>\n",
       "    <tr>\n",
       "      <th>0</th>\n",
       "      <td>21</td>\n",
       "      <td>Dell</td>\n",
       "      <td>XPS 13</td>\n",
       "      <td>Ultrabook</td>\n",
       "      <td>13.3</td>\n",
       "      <td>Intel Core i5 8250U 1.6GHz</td>\n",
       "      <td>8</td>\n",
       "      <td>128GB SSD</td>\n",
       "      <td>Intel UHD Graphics 620</td>\n",
       "      <td>Windows 10</td>\n",
       "      <td>979.00</td>\n",
       "      <td>3</td>\n",
       "    </tr>\n",
       "    <tr>\n",
       "      <th>1</th>\n",
       "      <td>22</td>\n",
       "      <td>Dell</td>\n",
       "      <td>Latitude 5590</td>\n",
       "      <td>Ultrabook</td>\n",
       "      <td>15.6</td>\n",
       "      <td>Intel Core i7 8650U 1.9GHz</td>\n",
       "      <td>8</td>\n",
       "      <td>256GB SSD +  256GB SSD</td>\n",
       "      <td>Intel UHD Graphics 620</td>\n",
       "      <td>Windows 10</td>\n",
       "      <td>1298.00</td>\n",
       "      <td>0</td>\n",
       "    </tr>\n",
       "    <tr>\n",
       "      <th>2</th>\n",
       "      <td>23</td>\n",
       "      <td>Dell</td>\n",
       "      <td>Inspiron 5370</td>\n",
       "      <td>Ultrabook</td>\n",
       "      <td>13.3</td>\n",
       "      <td>Intel Core i7 8550U 1.8GHz</td>\n",
       "      <td>8</td>\n",
       "      <td>256GB SSD</td>\n",
       "      <td>AMD Radeon 530</td>\n",
       "      <td>Windows 10</td>\n",
       "      <td>955.00</td>\n",
       "      <td>3</td>\n",
       "    </tr>\n",
       "    <tr>\n",
       "      <th>3</th>\n",
       "      <td>24</td>\n",
       "      <td>Dell</td>\n",
       "      <td>Latitude 5590</td>\n",
       "      <td>Ultrabook</td>\n",
       "      <td>15.6</td>\n",
       "      <td>Intel Core i5 8250U 1.6GHz</td>\n",
       "      <td>8</td>\n",
       "      <td>256GB SSD</td>\n",
       "      <td>Intel UHD Graphics 620</td>\n",
       "      <td>Windows 10</td>\n",
       "      <td>1096.16</td>\n",
       "      <td>6</td>\n",
       "    </tr>\n",
       "    <tr>\n",
       "      <th>4</th>\n",
       "      <td>25</td>\n",
       "      <td>Dell</td>\n",
       "      <td>Inspiron 7577</td>\n",
       "      <td>Gaming</td>\n",
       "      <td>15.6</td>\n",
       "      <td>Intel Core i7 7700HQ 2.8GHz</td>\n",
       "      <td>16</td>\n",
       "      <td>128GB SSD +  1TB HDD</td>\n",
       "      <td>Nvidia GeForce GTX 1050 Ti</td>\n",
       "      <td>Windows 10</td>\n",
       "      <td>1349.00</td>\n",
       "      <td>0</td>\n",
       "    </tr>\n",
       "  </tbody>\n",
       "</table>\n",
       "</div>"
      ],
      "text/plain": [
       "   Id Company        Product   TypeName  Inches                          Cpu  \\\n",
       "0  21    Dell         XPS 13  Ultrabook    13.3   Intel Core i5 8250U 1.6GHz   \n",
       "1  22    Dell  Latitude 5590  Ultrabook    15.6   Intel Core i7 8650U 1.9GHz   \n",
       "2  23    Dell  Inspiron 5370  Ultrabook    13.3   Intel Core i7 8550U 1.8GHz   \n",
       "3  24    Dell  Latitude 5590  Ultrabook    15.6   Intel Core i5 8250U 1.6GHz   \n",
       "4  25    Dell  Inspiron 7577     Gaming    15.6  Intel Core i7 7700HQ 2.8GHz   \n",
       "\n",
       "   Ram                  Memory                         Gpu       OpSys  \\\n",
       "0    8               128GB SSD      Intel UHD Graphics 620  Windows 10   \n",
       "1    8  256GB SSD +  256GB SSD      Intel UHD Graphics 620  Windows 10   \n",
       "2    8               256GB SSD              AMD Radeon 530  Windows 10   \n",
       "3    8               256GB SSD      Intel UHD Graphics 620  Windows 10   \n",
       "4   16    128GB SSD +  1TB HDD  Nvidia GeForce GTX 1050 Ti  Windows 10   \n",
       "\n",
       "   Price_euros  0  \n",
       "0       979.00  3  \n",
       "1      1298.00  0  \n",
       "2       955.00  3  \n",
       "3      1096.16  6  \n",
       "4      1349.00  0  "
      ]
     },
     "execution_count": 490,
     "metadata": {},
     "output_type": "execute_result"
    }
   ],
   "source": [
    "laptop_data.head()"
   ]
  },
  {
   "cell_type": "code",
   "execution_count": 491,
   "metadata": {},
   "outputs": [],
   "source": [
    "laptop_data.columns=[   'Id', 'Company',     'Product',    'TypeName',      'Inches',\n",
    "               'Cpu',         'Ram',      'Memory',         'Gpu',\n",
    "             'OpSys', 'Price_euros',             'Class']"
   ]
  },
  {
   "cell_type": "code",
   "execution_count": 509,
   "metadata": {},
   "outputs": [],
   "source": [
    "laptop_data.to_csv(\"data/results.csv\", index=False)"
   ]
  },
  {
   "cell_type": "code",
   "execution_count": 493,
   "metadata": {},
   "outputs": [],
   "source": [
    "import pickle"
   ]
  },
  {
   "cell_type": "code",
   "execution_count": 494,
   "metadata": {},
   "outputs": [],
   "source": [
    "pickle.dump(kmeans, open(\"model/kmeans.pkl\", \"wb\"))"
   ]
  },
  {
   "cell_type": "code",
   "execution_count": 495,
   "metadata": {},
   "outputs": [],
   "source": [
    "model=pickle.load(open(\"model/kmeans.pkl\",\"rb\"))"
   ]
  },
  {
   "cell_type": "code",
   "execution_count": 496,
   "metadata": {},
   "outputs": [
    {
     "name": "stdout",
     "output_type": "stream",
     "text": [
      "0\n"
     ]
    }
   ],
   "source": [
    "item_class=model.predict([[1,1,1,1,1,1,1301]]).tolist().pop()\n",
    "print(item_class)"
   ]
  },
  {
   "cell_type": "code",
   "execution_count": 510,
   "metadata": {},
   "outputs": [
    {
     "data": {
      "text/html": [
       "<div>\n",
       "<style scoped>\n",
       "    .dataframe tbody tr th:only-of-type {\n",
       "        vertical-align: middle;\n",
       "    }\n",
       "\n",
       "    .dataframe tbody tr th {\n",
       "        vertical-align: top;\n",
       "    }\n",
       "\n",
       "    .dataframe thead th {\n",
       "        text-align: right;\n",
       "    }\n",
       "</style>\n",
       "<table border=\"1\" class=\"dataframe\">\n",
       "  <thead>\n",
       "    <tr style=\"text-align: right;\">\n",
       "      <th></th>\n",
       "      <th>Id</th>\n",
       "      <th>Company</th>\n",
       "      <th>Product</th>\n",
       "      <th>TypeName</th>\n",
       "      <th>Inches</th>\n",
       "      <th>Cpu</th>\n",
       "      <th>Ram</th>\n",
       "      <th>Memory</th>\n",
       "      <th>Gpu</th>\n",
       "      <th>OpSys</th>\n",
       "      <th>Price_euros</th>\n",
       "      <th>Class</th>\n",
       "    </tr>\n",
       "  </thead>\n",
       "  <tbody>\n",
       "    <tr>\n",
       "      <th>0</th>\n",
       "      <td>21</td>\n",
       "      <td>Dell</td>\n",
       "      <td>XPS 13</td>\n",
       "      <td>Ultrabook</td>\n",
       "      <td>13.3</td>\n",
       "      <td>Intel Core i5 8250U 1.6GHz</td>\n",
       "      <td>8</td>\n",
       "      <td>128GB SSD</td>\n",
       "      <td>Intel UHD Graphics 620</td>\n",
       "      <td>Windows 10</td>\n",
       "      <td>979.00</td>\n",
       "      <td>3</td>\n",
       "    </tr>\n",
       "    <tr>\n",
       "      <th>1</th>\n",
       "      <td>22</td>\n",
       "      <td>Dell</td>\n",
       "      <td>Latitude 5590</td>\n",
       "      <td>Ultrabook</td>\n",
       "      <td>15.6</td>\n",
       "      <td>Intel Core i7 8650U 1.9GHz</td>\n",
       "      <td>8</td>\n",
       "      <td>256GB SSD +  256GB SSD</td>\n",
       "      <td>Intel UHD Graphics 620</td>\n",
       "      <td>Windows 10</td>\n",
       "      <td>1298.00</td>\n",
       "      <td>0</td>\n",
       "    </tr>\n",
       "    <tr>\n",
       "      <th>2</th>\n",
       "      <td>23</td>\n",
       "      <td>Dell</td>\n",
       "      <td>Inspiron 5370</td>\n",
       "      <td>Ultrabook</td>\n",
       "      <td>13.3</td>\n",
       "      <td>Intel Core i7 8550U 1.8GHz</td>\n",
       "      <td>8</td>\n",
       "      <td>256GB SSD</td>\n",
       "      <td>AMD Radeon 530</td>\n",
       "      <td>Windows 10</td>\n",
       "      <td>955.00</td>\n",
       "      <td>3</td>\n",
       "    </tr>\n",
       "    <tr>\n",
       "      <th>3</th>\n",
       "      <td>24</td>\n",
       "      <td>Dell</td>\n",
       "      <td>Latitude 5590</td>\n",
       "      <td>Ultrabook</td>\n",
       "      <td>15.6</td>\n",
       "      <td>Intel Core i5 8250U 1.6GHz</td>\n",
       "      <td>8</td>\n",
       "      <td>256GB SSD</td>\n",
       "      <td>Intel UHD Graphics 620</td>\n",
       "      <td>Windows 10</td>\n",
       "      <td>1096.16</td>\n",
       "      <td>6</td>\n",
       "    </tr>\n",
       "    <tr>\n",
       "      <th>4</th>\n",
       "      <td>25</td>\n",
       "      <td>Dell</td>\n",
       "      <td>Inspiron 7577</td>\n",
       "      <td>Gaming</td>\n",
       "      <td>15.6</td>\n",
       "      <td>Intel Core i7 7700HQ 2.8GHz</td>\n",
       "      <td>16</td>\n",
       "      <td>128GB SSD +  1TB HDD</td>\n",
       "      <td>Nvidia GeForce GTX 1050 Ti</td>\n",
       "      <td>Windows 10</td>\n",
       "      <td>1349.00</td>\n",
       "      <td>0</td>\n",
       "    </tr>\n",
       "  </tbody>\n",
       "</table>\n",
       "</div>"
      ],
      "text/plain": [
       "   Id Company        Product   TypeName  Inches                          Cpu  \\\n",
       "0  21    Dell         XPS 13  Ultrabook    13.3   Intel Core i5 8250U 1.6GHz   \n",
       "1  22    Dell  Latitude 5590  Ultrabook    15.6   Intel Core i7 8650U 1.9GHz   \n",
       "2  23    Dell  Inspiron 5370  Ultrabook    13.3   Intel Core i7 8550U 1.8GHz   \n",
       "3  24    Dell  Latitude 5590  Ultrabook    15.6   Intel Core i5 8250U 1.6GHz   \n",
       "4  25    Dell  Inspiron 7577     Gaming    15.6  Intel Core i7 7700HQ 2.8GHz   \n",
       "\n",
       "   Ram                  Memory                         Gpu       OpSys  \\\n",
       "0    8               128GB SSD      Intel UHD Graphics 620  Windows 10   \n",
       "1    8  256GB SSD +  256GB SSD      Intel UHD Graphics 620  Windows 10   \n",
       "2    8               256GB SSD              AMD Radeon 530  Windows 10   \n",
       "3    8               256GB SSD      Intel UHD Graphics 620  Windows 10   \n",
       "4   16    128GB SSD +  1TB HDD  Nvidia GeForce GTX 1050 Ti  Windows 10   \n",
       "\n",
       "   Price_euros  Class  \n",
       "0       979.00      3  \n",
       "1      1298.00      0  \n",
       "2       955.00      3  \n",
       "3      1096.16      6  \n",
       "4      1349.00      0  "
      ]
     },
     "execution_count": 510,
     "metadata": {},
     "output_type": "execute_result"
    }
   ],
   "source": [
    "laptop_data.head()"
   ]
  },
  {
   "cell_type": "code",
   "execution_count": 498,
   "metadata": {},
   "outputs": [
    {
     "data": {
      "text/plain": [
       "(80, 12)"
      ]
     },
     "execution_count": 498,
     "metadata": {},
     "output_type": "execute_result"
    }
   ],
   "source": [
    "laptop_data.shape"
   ]
  },
  {
   "cell_type": "code",
   "execution_count": 524,
   "metadata": {},
   "outputs": [
    {
     "data": {
      "text/plain": [
       "[22, 25, 31]"
      ]
     },
     "execution_count": 524,
     "metadata": {},
     "output_type": "execute_result"
    }
   ],
   "source": [
    "result_data=laptop_data.loc[laptop_data['Class'] == item_class]\n",
    "result_data=result_data.loc[laptop_data['Company']==\"Dell\" ]\n",
    "result_data['Id'][0:3].tolist()"
   ]
  },
  {
   "cell_type": "code",
   "execution_count": 525,
   "metadata": {},
   "outputs": [
    {
     "data": {
      "text/html": [
       "<div>\n",
       "<style scoped>\n",
       "    .dataframe tbody tr th:only-of-type {\n",
       "        vertical-align: middle;\n",
       "    }\n",
       "\n",
       "    .dataframe tbody tr th {\n",
       "        vertical-align: top;\n",
       "    }\n",
       "\n",
       "    .dataframe thead th {\n",
       "        text-align: right;\n",
       "    }\n",
       "</style>\n",
       "<table border=\"1\" class=\"dataframe\">\n",
       "  <thead>\n",
       "    <tr style=\"text-align: right;\">\n",
       "      <th></th>\n",
       "      <th>Id</th>\n",
       "      <th>Company</th>\n",
       "      <th>Product</th>\n",
       "      <th>TypeName</th>\n",
       "      <th>Inches</th>\n",
       "      <th>Cpu</th>\n",
       "      <th>Ram</th>\n",
       "      <th>Memory</th>\n",
       "      <th>Gpu</th>\n",
       "      <th>OpSys</th>\n",
       "      <th>Price_euros</th>\n",
       "      <th>Class</th>\n",
       "    </tr>\n",
       "  </thead>\n",
       "  <tbody>\n",
       "    <tr>\n",
       "      <th>1</th>\n",
       "      <td>22</td>\n",
       "      <td>Dell</td>\n",
       "      <td>Latitude 5590</td>\n",
       "      <td>Ultrabook</td>\n",
       "      <td>15.6</td>\n",
       "      <td>Intel Core i7 8650U 1.9GHz</td>\n",
       "      <td>8</td>\n",
       "      <td>256GB SSD +  256GB SSD</td>\n",
       "      <td>Intel UHD Graphics 620</td>\n",
       "      <td>Windows 10</td>\n",
       "      <td>1298.0</td>\n",
       "      <td>0</td>\n",
       "    </tr>\n",
       "    <tr>\n",
       "      <th>4</th>\n",
       "      <td>25</td>\n",
       "      <td>Dell</td>\n",
       "      <td>Inspiron 7577</td>\n",
       "      <td>Gaming</td>\n",
       "      <td>15.6</td>\n",
       "      <td>Intel Core i7 7700HQ 2.8GHz</td>\n",
       "      <td>16</td>\n",
       "      <td>128GB SSD +  1TB HDD</td>\n",
       "      <td>Nvidia GeForce GTX 1050 Ti</td>\n",
       "      <td>Windows 10</td>\n",
       "      <td>1349.0</td>\n",
       "      <td>0</td>\n",
       "    </tr>\n",
       "    <tr>\n",
       "      <th>10</th>\n",
       "      <td>31</td>\n",
       "      <td>Dell</td>\n",
       "      <td>Inspiron 5379</td>\n",
       "      <td>2 in 1 Convertible</td>\n",
       "      <td>13.3</td>\n",
       "      <td>Intel Core i7 8550U 1.8GHz</td>\n",
       "      <td>16</td>\n",
       "      <td>512GB SSD</td>\n",
       "      <td>Intel UHD Graphics 620</td>\n",
       "      <td>Windows 10</td>\n",
       "      <td>1279.0</td>\n",
       "      <td>0</td>\n",
       "    </tr>\n",
       "  </tbody>\n",
       "</table>\n",
       "</div>"
      ],
      "text/plain": [
       "    Id Company        Product            TypeName  Inches  \\\n",
       "1   22    Dell  Latitude 5590           Ultrabook    15.6   \n",
       "4   25    Dell  Inspiron 7577              Gaming    15.6   \n",
       "10  31    Dell  Inspiron 5379  2 in 1 Convertible    13.3   \n",
       "\n",
       "                            Cpu  Ram                  Memory  \\\n",
       "1    Intel Core i7 8650U 1.9GHz    8  256GB SSD +  256GB SSD   \n",
       "4   Intel Core i7 7700HQ 2.8GHz   16    128GB SSD +  1TB HDD   \n",
       "10   Intel Core i7 8550U 1.8GHz   16               512GB SSD   \n",
       "\n",
       "                           Gpu       OpSys  Price_euros  Class  \n",
       "1       Intel UHD Graphics 620  Windows 10       1298.0      0  \n",
       "4   Nvidia GeForce GTX 1050 Ti  Windows 10       1349.0      0  \n",
       "10      Intel UHD Graphics 620  Windows 10       1279.0      0  "
      ]
     },
     "execution_count": 525,
     "metadata": {},
     "output_type": "execute_result"
    }
   ],
   "source": [
    "result_data[0:3]"
   ]
  },
  {
   "cell_type": "code",
   "execution_count": null,
   "metadata": {},
   "outputs": [],
   "source": []
  }
 ],
 "metadata": {
  "kernelspec": {
   "display_name": "Python 3",
   "language": "python",
   "name": "python3"
  },
  "language_info": {
   "codemirror_mode": {
    "name": "ipython",
    "version": 3
   },
   "file_extension": ".py",
   "mimetype": "text/x-python",
   "name": "python",
   "nbconvert_exporter": "python",
   "pygments_lexer": "ipython3",
   "version": "3.7.4"
  }
 },
 "nbformat": 4,
 "nbformat_minor": 2
}
